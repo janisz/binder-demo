{
 "cells": [
  {
   "cell_type": "markdown",
   "metadata": {},
   "source": [
    "# Egzamin z Programowania Komputerowego\n",
    "## 29 stycznia 2020"
   ]
  },
  {
   "cell_type": "code",
   "execution_count": 1,
   "metadata": {},
   "outputs": [],
   "source": [
    "#include <iostream>\n",
    "#include <cstring>\n",
    "using namespace std;"
   ]
  },
  {
   "cell_type": "markdown",
   "metadata": {},
   "source": [
    "Napisać funkcję `int f(int n)` która zwraca ilość liczb pierwszych mniejszych od `n`"
   ]
  },
  {
   "cell_type": "code",
   "execution_count": 11,
   "metadata": {},
   "outputs": [],
   "source": [
    "//http://www.algorytm.edu.pl/algorytmy-maturalne/sito-eratostenesa.html\n",
    "void sito(bool *tab, unsigned int n)\n",
    "{\n",
    "\tfor (int i=2; i*i<=n; i++) //przeszukujemy kolejnych kandydatów na pierwsze\n",
    "    {\t\t\t\t\t\t\t//wystarczy sprawdzić do pierwiastka z n\n",
    "    \t\t\t\t\t\t\t// i<=sqrt(n) - podnosząc do kwadratu mamy\n",
    "    \t\t\t\t\t\t\t// i*i <= n\n",
    "        if(!tab[i])\t\t\t\t//jesli liczba jest pierwsza(ma wartosc 0)\n",
    "\t\tfor (int j = i*i ; j<=n; j+=i) //to wykreslamy jej wielokrotnosci\n",
    "            tab[j] = 1;\t\t\t//ustawiając wartosć na 1\n",
    "    }\n",
    "}"
   ]
  },
  {
   "cell_type": "code",
   "execution_count": 12,
   "metadata": {},
   "outputs": [],
   "source": [
    "int f(int n) {\n",
    "    if (n < 2) { return 0; }\n",
    "    bool* tab = new bool[n+1];\n",
    "   \tsito(tab, n);\n",
    "    int count = 0;\n",
    "    for (int i=2; i<=n;i++) {\n",
    "        count += tab[i];\n",
    "    }\n",
    "    return count;\n",
    "}"
   ]
  },
  {
   "cell_type": "code",
   "execution_count": 13,
   "metadata": {},
   "outputs": [
    {
     "data": {
      "text/plain": [
       "5"
      ]
     },
     "execution_count": 13,
     "metadata": {},
     "output_type": "execute_result"
    }
   ],
   "source": [
    "f(10)"
   ]
  },
  {
   "cell_type": "markdown",
   "metadata": {},
   "source": [
    "Napisać funkcję `bool g(char* s, char* t)` która zwraca `true` wtedy i tylko wtedy, gdy napis `s` rozpoczyna się napisem `t` czytanym wspak."
   ]
  },
  {
   "cell_type": "code",
   "execution_count": 14,
   "metadata": {},
   "outputs": [
    {
     "name": "stderr",
     "output_type": "stream",
     "text": [
      "input_line_30:1:6: error: redefinition of 'g'\n",
      "bool g(const char* s, const char* t) {\n",
      "     ^\n",
      "input_line_15:1:6: note: previous definition is here\n",
      "bool g(const char* s, const char* t) {\n",
      "     ^\n"
     ]
    },
    {
     "ename": "Interpreter Error",
     "evalue": "",
     "output_type": "error",
     "traceback": [
      "Interpreter Error: "
     ]
    }
   ],
   "source": [
    "bool g(const char* s, const char* t) {\n",
    "    int sn = strlen(s);\n",
    "    int tn = strlen(t);\n",
    "    if (tn > sn) { return false;}\n",
    "    for (int i=0;i<tn;i++) {\n",
    "        if (s[i] != t[tn-1-i]) {\n",
    "            return false;\n",
    "        }\n",
    "    }\n",
    "    return true;\n",
    "}"
   ]
  },
  {
   "cell_type": "code",
   "execution_count": 15,
   "metadata": {},
   "outputs": [
    {
     "data": {
      "text/plain": [
       "true"
      ]
     },
     "execution_count": 15,
     "metadata": {},
     "output_type": "execute_result"
    }
   ],
   "source": [
    "g(\"KOMPUTER\", \"PMOK\")"
   ]
  },
  {
   "cell_type": "code",
   "execution_count": 16,
   "metadata": {},
   "outputs": [
    {
     "data": {
      "text/plain": [
       "true"
      ]
     },
     "execution_count": 16,
     "metadata": {},
     "output_type": "execute_result"
    }
   ],
   "source": [
    "g(\"PROGRAM\", \"\")"
   ]
  },
  {
   "cell_type": "code",
   "execution_count": 17,
   "metadata": {},
   "outputs": [
    {
     "data": {
      "text/plain": [
       "false"
      ]
     },
     "execution_count": 17,
     "metadata": {},
     "output_type": "execute_result"
    }
   ],
   "source": [
    "g(\"NAPIS\", \"NAP\")"
   ]
  },
  {
   "cell_type": "markdown",
   "metadata": {},
   "source": [
    "Zaimplementować klasę `KiK`, której obiekty reprezentują plansze do gry w kółko i krzyżyk. \n",
    "Plansza jest kwadratowa, pola mają współrzędne numerowae od 0, pierwsza współrzędna jest numerem kolumny,\n",
    "a druga numerem wiersza. Każde pole mozeb być puste, zawierać kółko lub krzyżyk.\n",
    "*Metody publiczne:*\n",
    "* `KiK(int rozmiar)` – tworzy, pustą planszę o pdanym rozmiarze. Pola mają współrzędne 0...rozmiar-1\n",
    "* `void ustaw(int x, int y, bool kolko)` – wstawia kółkow (jeśli kolko==true) lu krzyżyk w miejscu o pdanych współrzędnych. Jeśli pole nie jest puste lub współrzędne są niepoprawne nic się nie dzieje.\n",
    "* `void usunKolumne(int kolumna)` – usuwa wszystkie znaki w polach o pdanej pierwszej współrzędnej\n",
    "* `int ilePustych()` – zwraca liczbę pustych pól na planszy\n",
    "* `int najdluzszaLinia()` – zwraca długość najdłuższego ciągu kolejnych pól, pionowego lub poziomego, zawierających krzyżyki\n",
    "* `void drukuj()` – drukuje planszę na ekranie"
   ]
  },
  {
   "cell_type": "code",
   "execution_count": 2,
   "metadata": {},
   "outputs": [],
   "source": [
    "class KiK {\n",
    "    char** plansza;\n",
    "    int rozmiar;\n",
    "    public:\n",
    "        KiK(int rozmiar) {\n",
    "        \tthis->rozmiar = rozmiar;\n",
    "            plansza = new char*[rozmiar];\n",
    "            for (int i=0;i<rozmiar;i++) {\n",
    "                plansza[i] = new char[rozmiar];\n",
    "            }\n",
    "            for (int i=0;i<rozmiar;i++) {\n",
    "                for (int j=0;j<rozmiar;j++) {\n",
    "                    plansza[i][j] = '_';\n",
    "                }\n",
    "            }\n",
    "        }\n",
    "        void ustaw(int x, int y, bool kolko) {\n",
    "            if (plansza[y][x] != '_') { return;}\n",
    "            plansza[y][x] = kolko ? 'O' : 'X';\n",
    "        }\n",
    "        void usunKolumne(int kolumna) {\n",
    "            for (int i=0;i<rozmiar;i++) {\n",
    "                plansza[i][kolumna] = '_';\n",
    "            }\n",
    "        }\n",
    "        int ilePustych() {\n",
    "            int ile = 0;\n",
    "            for (int i=0;i<rozmiar;i++) {\n",
    "                for (int j=0;j<rozmiar;j++) {\n",
    "                    ile += plansza[i][j] == '_';\n",
    "                }\n",
    "            }\n",
    "            return ile;\n",
    "        }\n",
    "        void drukuj() {\n",
    "            cout<<\"-\"<<endl;\n",
    "            for (int i=0;i<rozmiar;i++) {\n",
    "                for (int j=0;j<rozmiar;j++) {\n",
    "                    cout<<plansza[i][j];\n",
    "                }\n",
    "                cout<<endl;\n",
    "            }\n",
    "            cout<<\"-\"<<endl;\n",
    "        }\n",
    "};"
   ]
  },
  {
   "cell_type": "code",
   "execution_count": 3,
   "metadata": {},
   "outputs": [
    {
     "name": "stdout",
     "output_type": "stream",
     "text": [
      "-\n",
      "____\n",
      "____\n",
      "____\n",
      "____\n",
      "-\n",
      "-\n",
      "____\n",
      "_O__\n",
      "____\n",
      "____\n",
      "-\n",
      "-\n",
      "X___\n",
      "_O__\n",
      "____\n",
      "____\n",
      "-\n",
      "-\n",
      "X__O\n",
      "_O__\n",
      "____\n",
      "____\n",
      "-\n",
      "-\n",
      "X__O\n",
      "_O_O\n",
      "____\n",
      "____\n",
      "-\n",
      "-\n",
      "X__O\n",
      "_O_O\n",
      "___O\n",
      "____\n",
      "-\n",
      "-\n",
      "X__O\n",
      "_O_O\n",
      "___O\n",
      "___O\n",
      "-\n",
      "-\n",
      "X___\n",
      "_O__\n",
      "____\n",
      "____\n",
      "-\n"
     ]
    },
    {
     "data": {
      "text/plain": [
       "14"
      ]
     },
     "execution_count": 3,
     "metadata": {},
     "output_type": "execute_result"
    }
   ],
   "source": [
    "KiK k = KiK(4);\n",
    "k.drukuj();\n",
    "k.ustaw(1, 1, true);\n",
    "k.drukuj();\n",
    "k.ustaw(0, 0, false);\n",
    "k.drukuj();\n",
    "k.ustaw(3, 0, true);\n",
    "k.drukuj();\n",
    "k.ustaw(3, 1, true);\n",
    "k.drukuj();\n",
    "k.ustaw(3, 2, true);\n",
    "k.drukuj();\n",
    "k.ustaw(3, 3, true);\n",
    "k.drukuj();\n",
    "k.usunKolumne(3);\n",
    "k.drukuj();\n",
    "k.ilePustych()"
   ]
  },
  {
   "cell_type": "code",
   "execution_count": null,
   "metadata": {},
   "outputs": [],
   "source": []
  }
 ],
 "metadata": {
  "kernelspec": {
   "display_name": "C++14",
   "language": "C++14",
   "name": "xcpp14"
  },
  "language_info": {
   "codemirror_mode": "text/x-c++src",
   "file_extension": ".cpp",
   "mimetype": "text/x-c++src",
   "name": "c++",
   "version": "-std=c++14"
  }
 },
 "nbformat": 4,
 "nbformat_minor": 2
}
